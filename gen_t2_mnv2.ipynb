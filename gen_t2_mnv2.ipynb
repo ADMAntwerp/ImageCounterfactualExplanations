{
 "cells": [
  {
   "cell_type": "code",
   "execution_count": 1,
   "metadata": {},
   "outputs": [],
   "source": [
    "import sys\n",
    "sys.path.append('./code')\n",
    "import os\n",
    "import multiprocessing\n",
    "\n",
    "import matplotlib.pylab as plt\n",
    "import PIL.Image as Image\n",
    "import numpy as np\n",
    "import tensorflow as tf\n",
    "import tensorflow_hub as hub\n",
    "from skimage.segmentation import quickshift\n",
    "\n",
    "from sedc_t2_fast import sedc_t2_fast"
   ]
  },
  {
   "cell_type": "code",
   "execution_count": 2,
   "metadata": {},
   "outputs": [],
   "source": [
    "# os.environ['CUDA_VISIBLE_DEVICES'] = '-1'"
   ]
  },
  {
   "cell_type": "code",
   "execution_count": null,
   "metadata": {},
   "outputs": [],
   "source": [
    "# Import model\n",
    "classifier_url =\"https://tfhub.dev/google/tf2-preview/mobilenet_v2/classification/2\"\n",
    "\n",
    "# Define image shape\n",
    "IMAGE_SHAPE = (224, 224)\n",
    "\n",
    "# Configure classifier\n",
    "classifier = tf.keras.Sequential([\n",
    "    hub.KerasLayer(classifier_url, input_shape=IMAGE_SHAPE+(3,), trainable=True)\n",
    "])\n",
    "\n",
    "# Get labels\n",
    "labels_path = tf.keras.utils.get_file('ImageNetLabels.txt','https://storage.googleapis.com/download.tensorflow.org/data/ImageNetLabels.txt')\n",
    "imagenet_labels = np.array(open(labels_path).read().splitlines())\n"
   ]
  },
  {
   "cell_type": "code",
   "execution_count": null,
   "metadata": {},
   "outputs": [],
   "source": [
    "def find_cf_region(i_data):\n",
    "    \n",
    "    img_path = i_data[0]\n",
    "    output_folder = i_data[1]\n",
    "    \n",
    "    img_filename = img_path.split('/')[-1]\n",
    "    \n",
    "    image = Image.open(f'{img_path}')\n",
    "    image = image.resize(IMAGE_SHAPE)\n",
    "    image = np.array(image)/255.0\n",
    "    image = image[:,:,0:3]\n",
    "    \n",
    "    segments = quickshift(image, kernel_size=4, max_dist=200, ratio=0.2)\n",
    "    \n",
    "    explanation, segments_in_explanation, perturbation, new_class = sedc_t2_fast(\n",
    "        image, \n",
    "        classifier, \n",
    "        segments, \n",
    "        np.where(imagenet_labels=='French bulldog')[0][0], \n",
    "        'blur', \n",
    "        max_time=10)\n",
    "    \n",
    "    if explanation is not None:\n",
    "        mask_true_single = np.isin(segments, segments_in_explanation)\n",
    "\n",
    "        mask_true_full = []\n",
    "        for row in mask_true_single:\n",
    "            mask_true_col = []\n",
    "            for col in row:\n",
    "                if col:\n",
    "                    mask_true_col.append([1, 1, 1])\n",
    "                else:\n",
    "                    mask_true_col.append([0, 0, 0])\n",
    "            mask_true_full.append(mask_true_col)\n",
    "\n",
    "        mask_true_full = np.array(mask_true_full)\n",
    "\n",
    "        Image.fromarray(( ( image*(mask_true_full==0) + (mask_true_full!=0)*(0,1,0)) * 255).astype(np.uint8)).save(f'{output_folder}/{img_filename}')"
   ]
  },
  {
   "cell_type": "code",
   "execution_count": null,
   "metadata": {},
   "outputs": [],
   "source": []
  },
  {
   "cell_type": "code",
   "execution_count": null,
   "metadata": {},
   "outputs": [],
   "source": [
    "img_factual = os.listdir('./chihuahua_test/')\n",
    "img_factual_paths = [[ './chihuahua_test/'+x, './cf_region_test/'] for x in img_factual]"
   ]
  },
  {
   "cell_type": "code",
   "execution_count": null,
   "metadata": {},
   "outputs": [],
   "source": [
    "%%time\n",
    "for i_data in img_factual_paths:\n",
    "    find_cf_region(i_data)"
   ]
  },
  {
   "cell_type": "code",
   "execution_count": null,
   "metadata": {},
   "outputs": [],
   "source": []
  }
 ],
 "metadata": {
  "kernelspec": {
   "display_name": "Python 3",
   "language": "python",
   "name": "python3"
  },
  "language_info": {
   "codemirror_mode": {
    "name": "ipython",
    "version": 3
   },
   "file_extension": ".py",
   "mimetype": "text/x-python",
   "name": "python",
   "nbconvert_exporter": "python",
   "pygments_lexer": "ipython3",
   "version": "3.8.3"
  }
 },
 "nbformat": 4,
 "nbformat_minor": 4
}
